{
 "cells": [
  {
   "cell_type": "code",
   "execution_count": 1,
   "metadata": {},
   "outputs": [],
   "source": [
    "import numpy as np\n",
    "import functools as ft\n",
    "import math, cmath\n",
    "from numba import njit, prange, types, jit\n",
    "from numba.extending import overload\n",
    "from scipy.special import eval_jacobi\n",
    "from scipy import integrate"
   ]
  },
  {
   "cell_type": "code",
   "execution_count": 85,
   "metadata": {},
   "outputs": [
    {
     "name": "stdout",
     "output_type": "stream",
     "text": [
      "Using m^2 = -4.0\n"
     ]
    }
   ],
   "source": [
    "d = 4\n",
    "m = complex(0, 2)\n",
    "print(\"Using m^2 =\", (m * m).real)\n",
    "Dpl = d/2 + 0.5 * cmath.sqrt(d * d + 4.0 * (m * m).real)\n",
    "Dmin = d/2 - 0.5 * cmath.sqrt(d * d + 4.0 * (m * m).real)\n",
    "NPOW = 15\n",
    "J_0 = 1.\n",
    "LMAX = 6\n",
    "DX = np.pi/(2*((2**NPOW) + 1))\n",
    "XGRID = np.linspace(0, np.pi/2, (2 ** NPOW) + 1, dtype=np.double) # romb method requires 2**k + 1 gridpoints"
   ]
  },
  {
   "cell_type": "code",
   "execution_count": 86,
   "metadata": {},
   "outputs": [],
   "source": [
    "# Test input values\n",
    "m_BF = - d * d / 4\n",
    "if (m * m).real < m_BF:\n",
    "    print(\"ERROR: Mass-squared must be greater than the \" +\n",
    "         \"Breitenlohmer-Freedman bound:\", m_BF)\n",
    "if Dpl.imag == 0: \n",
    "    Dpl = Dpl.real\n",
    "else:\n",
    "    print(\"ERROR: Must have real Delta_plus value\")                          \n",
    "if Dmin.imag == 0: \n",
    "    Dmin = Dmin.real\n",
    "else:\n",
    "    print(\"ERROR: Must have real Delta_minus value\")"
   ]
  },
  {
   "cell_type": "code",
   "execution_count": 87,
   "metadata": {},
   "outputs": [
    {
     "data": {
      "text/plain": [
       "-0.1328124999999994"
      ]
     },
     "execution_count": 87,
     "metadata": {},
     "output_type": "execute_result"
    }
   ],
   "source": [
    "# See recursion relationships between Jacobi polynomials \n",
    "@njit\n",
    "def my_jacobi(n, a, b, x):\n",
    "    if n < 0:\n",
    "        return 0.\n",
    "    elif n == 0:\n",
    "        return J_0\n",
    "    elif n == 1:\n",
    "        return (a + 1) + (a + b + 2) * (x - 1) / 2\n",
    "    else:\n",
    "        jac_factor = 2 * n + a + b - 1\n",
    "        outval = jac_factor * ((jac_factor + 1) * (jac_factor - 1) * x + (a * a)\\\n",
    "                               - (b * b)) * my_jacobi(n - 1, a, b, x)\n",
    "        outval -= 2 * (n + a - 1) * (n + b - 1) * (jac_factor + 1) * my_jacobi(n - 2, a, b, x)\n",
    "        return outval / (2 * n * (n + a + b) * (jac_factor - 1))\n",
    "                    \n",
    "my_jacobi(4, d/2 - 1, Dpl - d/2, np.cos(2 * np.pi/3))"
   ]
  },
  {
   "cell_type": "code",
   "execution_count": 88,
   "metadata": {},
   "outputs": [
    {
     "data": {
      "text/plain": [
       "2.0"
      ]
     },
     "execution_count": 88,
     "metadata": {},
     "output_type": "execute_result"
    }
   ],
   "source": [
    "@njit\n",
    "def mu(x):\n",
    "    return (np.tan(x)) ** (d-1)\n",
    "\n",
    "# Evaluate the derivatives analytically\n",
    "@njit\n",
    "def nu(x):\n",
    "    return (np.cos(x)) ** 2 * (np.tan(x)) ** (2 - d)\n",
    "\n",
    "@njit\n",
    "def nup(x):\n",
    "    return (1 - d + np.cos(2.*x)) * (np.tan(x)) ** (1 - d) \n",
    "\n",
    "@njit\n",
    "def omega(i):\n",
    "    return Dpl + 2 * i\n",
    "mu(0)\n",
    "nu(np.pi)\n",
    "nup(np.pi/4)\n",
    "omega(0)"
   ]
  },
  {
   "cell_type": "code",
   "execution_count": 89,
   "metadata": {},
   "outputs": [
    {
     "data": {
      "text/plain": [
       "2.8284271247461903"
      ]
     },
     "execution_count": 89,
     "metadata": {},
     "output_type": "execute_result"
    }
   ],
   "source": [
    "@njit\n",
    "def K(i):\n",
    "    return 2. * np.sqrt((i + Dpl / 2) * math.gamma(i + 1) * math.gamma(Dpl + i) / (math.gamma(i + d/2) * math.gamma(\n",
    "        i + Dpl + 1 - d/2)))\n",
    "\n",
    "K(1)"
   ]
  },
  {
   "cell_type": "code",
   "execution_count": 90,
   "metadata": {},
   "outputs": [
    {
     "data": {
      "text/plain": [
       "0.838525491562421"
      ]
     },
     "execution_count": 90,
     "metadata": {},
     "output_type": "execute_result"
    }
   ],
   "source": [
    "@njit\n",
    "def e(x, j):\n",
    "    return K(j) * (np.cos(x)) ** Dpl * my_jacobi(j, d/2 - 1, Dpl - d/2, np.cos(2 * x))\n",
    "\n",
    "e(np.pi/4, 4)"
   ]
  },
  {
   "cell_type": "code",
   "execution_count": 91,
   "metadata": {},
   "outputs": [
    {
     "data": {
      "text/plain": [
       "-4.205817852522124"
      ]
     },
     "execution_count": 91,
     "metadata": {},
     "output_type": "execute_result"
    }
   ],
   "source": [
    "@njit\n",
    "def ep(x, j):\n",
    "    return -1. * K(j) * np.tan(x) * (np.cos(x)) ** Dpl * (2 * (Dpl + j) * np.cos(x) ** 2 * my_jacobi(j - 1, \n",
    "            d/2, Dpl + 1 - d/2, np.cos(2 * x)) + Dpl * my_jacobi(j, d/2 - 1, Dpl - d/2, np.cos(2 * x)))\n",
    "\n",
    "ep(np.pi/3, 4)"
   ]
  },
  {
   "cell_type": "code",
   "execution_count": 92,
   "metadata": {},
   "outputs": [
    {
     "data": {
      "text/plain": [
       "2.0"
      ]
     },
     "execution_count": 92,
     "metadata": {},
     "output_type": "execute_result"
    }
   ],
   "source": [
    "# Remove the need to include nu(x) in the integrals by using \n",
    "# the identity mu(x)nu(x) = sin(x)cos(x)\n",
    "@njit\n",
    "def V_integrand(x, i, j, k, l):\n",
    "    return mu(x) * np.sin(x) * np.cos(x) * e(x, i) * e(x, j) * ep(x, k) * e(x, l) * (1 / np.cos(x)) ** 2\n",
    "\n",
    "@njit\n",
    "def X_integrand(x, i, j, k, l):\n",
    "    return mu(x) * np.sin(x) * np.cos(x) * ep(x, i) * e(x, j) * e(x, k) * e(x, l)\n",
    "\n",
    "@njit\n",
    "def Y_integrand(x, i, j, k, l):\n",
    "    return mu(x) * np.sin(x) * np.cos(x) * ep(x, i) * ep(x, j) * e(x, k) * ep(x, l)\n",
    "\n",
    "@njit\n",
    "def B_integrand(x, y, i, j, l):\n",
    "    return np.sin(x) * np.cos(x) * ep(x, i) * ep(x, j) * mu(y) * e(y, l) * e(y, l)\n",
    "    \n",
    "\n",
    "X_integrand(np.pi/4,0,0,0,0)\n",
    "Y_integrand(np.pi/4,0,0,0,0)\n",
    "V_integrand(np.pi/3,1,2,3,4)\n",
    "B_integrand(np.pi/4,np.pi/4,0,0,0)"
   ]
  },
  {
   "cell_type": "code",
   "execution_count": 9,
   "metadata": {},
   "outputs": [
    {
     "name": "stdout",
     "output_type": "stream",
     "text": [
      "1.54 µs ± 144 ns per loop (mean ± std. dev. of 7 runs, 1000000 loops each)\n"
     ]
    }
   ],
   "source": [
    "# Time iterations of the function\n",
    "%timeit V_integrand(np.pi/4,1,2,3,4)"
   ]
  },
  {
   "cell_type": "code",
   "execution_count": 10,
   "metadata": {},
   "outputs": [
    {
     "data": {
      "text/plain": [
       "-16.814303173922"
      ]
     },
     "execution_count": 10,
     "metadata": {},
     "output_type": "execute_result"
    }
   ],
   "source": [
    "# Note: these functions cannot be executed using Numba because of calls to scipy.integrate\n",
    "# After testing cumulative trapezoid and simpsons methods, romb does the job just as well\n",
    "def X_integral(i,j,k,l):\n",
    "    return integrate.romb([X_integrand(xval, i, j, k, l) for xval in XGRID], dx=np.pi/(2*len(XGRID)))\n",
    "\n",
    "def Y_integral(i,j,k,l):\n",
    "    return integrate.romb([Y_integrand(xval, i, j, k , l) for xval in XGRID], dx=np.pi/(2*len(XGRID)))\n",
    "\n",
    "def V_integral(i,j,k,l):\n",
    "    return integrate.romb([V_integrand(xval, i, j, k , l) for xval in XGRID], dx=np.pi/(2*len(XGRID)))\n",
    "\n",
    "X_integral(0,0,0,0)\n",
    "Y_integral(0,0,0,0)\n",
    "V_integral(1,2,3,4)"
   ]
  },
  {
   "cell_type": "code",
   "execution_count": 12,
   "metadata": {},
   "outputs": [
    {
     "data": {
      "text/plain": [
       "-16.81481630573272"
      ]
     },
     "execution_count": 12,
     "metadata": {},
     "output_type": "execute_result"
    }
   ],
   "source": [
    "integrate.quad(V_integrand, 0, np.pi/2, args=(1,2,3,4))[0]"
   ]
  },
  {
   "cell_type": "code",
   "execution_count": 93,
   "metadata": {},
   "outputs": [
    {
     "name": "stdout",
     "output_type": "stream",
     "text": [
      "B(1,1,2) = 5.325253e+00\n",
      "P(1,2,3) = 4.299454e-01\n",
      "Q(1,2,1) = 1.749636e-01\n",
      "M(3,2,1) = 1.437627e+01\n"
     ]
    }
   ],
   "source": [
    "# Write an integral approximator that uses parallelism and a simple mid-point method. \n",
    "# Should be used with numba and parallel=True to maximize performance\n",
    "\n",
    "@njit(parallel=True)\n",
    "def X(i,j,k,l):\n",
    "    # Approximate the integral by adding together area elements over the integration domain.\n",
    "    # Use an average of the function f_av = (f(x) + f(x + dx)) / 2 and multiply by the width of the interval.\n",
    "    result = np.zeros((2**NPOW,), dtype=np.double)\n",
    "    for val in prange(2**NPOW):\n",
    "        result[val] = (X_integrand(XGRID[val],i,j,k,l) + X_integrand(XGRID[val+1],i,j,k,l)) / 2 * DX\n",
    "    return np.sum(result)\n",
    "\n",
    "@njit(parallel=True)\n",
    "def Y(i,j,k,l):\n",
    "    # Approximate the integral by adding together area elements over the integration domain.\n",
    "    # Use an average of the function f_av = (f(x) + f(x + dx)) / 2 and multiply by the width of the interval.\n",
    "    result = np.zeros((2**NPOW,), dtype=np.double)\n",
    "    for val in prange(2**NPOW):\n",
    "        result[val] = (Y_integrand(XGRID[val],i,j,k,l) + Y_integrand(XGRID[val+1],i,j,k,l)) / 2 * DX\n",
    "    return np.sum(result)\n",
    "\n",
    "@njit(parallel=True)\n",
    "def V(i,j,k,l):\n",
    "    # Approximate the integral by adding together area elements over the integration domain.\n",
    "    # Use an average of the function f_av = (f(x) + f(x + dx)) / 2 and multiply by the width of the interval.\n",
    "    result = np.zeros((2**NPOW,), dtype=np.double)\n",
    "    for val in prange(2**NPOW):\n",
    "        result[val] = (V_integrand(XGRID[val],i,j,k,l) + V_integrand(XGRID[val+1],i,j,k,l)) / 2 * DX\n",
    "    return np.sum(result)\n",
    "\n",
    "# Forgoing @njit for ease of use of double quad integration\n",
    "def B(i,j,l):\n",
    "    # Note that y MUST preceed x\n",
    "    def integrand(y, x, i, j, l):\n",
    "        return np.sin(x) * np.cos(x) * ep(x, i) * ep(x, j) * mu(y) * e(y, l) * e(y, l)\n",
    "    # Use built-in double integrator with dynamic bounds\n",
    "    return integrate.dblquad(integrand, 0, np.pi/2, lambda y: 0, lambda y: y, args=(i, j, l))[0]\n",
    "\n",
    "def P(i,j,l):\n",
    "    # Note that y MUST preceed x\n",
    "    def integrand(y, x, i, j, l):\n",
    "        return np.sin(x) * np.cos(x) * e(x, i) * e(x, j) * mu(y) * e(y, l) * e(y, l)\n",
    "    # Use built-in double integrator with dynamic bounds\n",
    "    return integrate.dblquad(integrand, 0, np.pi/2, lambda y: 0, lambda y: y, args=(i, j, l))[0]\n",
    "\n",
    "def Q(i,j,l):\n",
    "    # Note that y MUST preceed x\n",
    "    def integrand(y, x, i, j, l):\n",
    "        return np.sin(x) * np.cos(x) * e(x, i) * e(x, j) * (1/ np.cos(x)) ** 2 * mu(y) * e(y, l) * e(y, l)\n",
    "    # Use built-in double integrator with dynamic bounds\n",
    "    return integrate.dblquad(integrand, 0, np.pi/2, lambda y: 0, lambda y: y, args=(i, j, l))[0]\n",
    "\n",
    "def M(i,j,l):\n",
    "    # Note that y MUST preceed x\n",
    "    def integrand(y, x, i, j, l):\n",
    "        return mu(x) * nup(x) * ep(x, i) * e(x, j) * mu(y) * e(y, l) * e(y,l)\n",
    "    # Use built-in double integrator with dynamic bounds\n",
    "    return integrate.dblquad(integrand, 0, np.pi/2, lambda y: 0, lambda y: y, args=(i, j, l))[0]\n",
    "\n",
    "# Use numba overloading to pass python functions to @njit functions\n",
    "\"\"\"\n",
    "@overload(B)\n",
    "def B_overload(i,j,l):\n",
    "    result = np.double(B(i,j,l))    \n",
    "    def spitout():\n",
    "        return result\n",
    "    return spitout()\n",
    "\n",
    "@overload(P)\n",
    "def P_overload(i,j,l):\n",
    "    result = np.double(P(i,j,l))\n",
    "    def spitout():\n",
    "        return result\n",
    "    return spitout()\n",
    "\n",
    "@overload(Q)\n",
    "def Q_overload(i,j,l):\n",
    "    result = np.double(Q(i,j,l))\n",
    "    def spitout():\n",
    "        return result\n",
    "    return spitout()\n",
    "\n",
    "@overload(M)\n",
    "def M_overload(i,j,l):\n",
    "    result = np.double(M(i,j,l))\n",
    "    def spitout():\n",
    "        return result\n",
    "    return spitout()\n",
    "\"\"\"\n",
    "\n",
    "X(0,0,0,0)\n",
    "Y(0,0,0,0)\n",
    "V(1,2,3,4)\n",
    "print(\"B(%d,%d,%d) = %e\" % (1,1,2, B(1,1,2)))\n",
    "print(\"P(%d,%d,%d) = %e\" % (1,2,3, P(1,2,3)))\n",
    "print(\"Q(%d,%d,%d) = %e\" % (1,2,1, Q(1,2,1)))\n",
    "print(\"M(%d,%d,%d) = %e\" % (3,2,1, M(3,2,1)))"
   ]
  },
  {
   "cell_type": "code",
   "execution_count": 13,
   "metadata": {},
   "outputs": [],
   "source": [
    "# print(\"Timing of approximation function:\")\n",
    "# %timeit X(1,2,3,4)\n",
    "# print(\"Timing of romberg integration:\")\n",
    "# %timeit X_integral(1,2,3,4)"
   ]
  },
  {
   "cell_type": "code",
   "execution_count": 94,
   "metadata": {},
   "outputs": [
    {
     "name": "stdout",
     "output_type": "stream",
     "text": [
      "M(3,2,1) = 1.437627e+01\n"
     ]
    },
    {
     "data": {
      "text/plain": [
       "0.0"
      ]
     },
     "execution_count": 94,
     "metadata": {},
     "output_type": "execute_result"
    }
   ],
   "source": [
    "# Use integration by parts to write H_ijkl in terms of other,\n",
    "# more well-behaved, integrals\n",
    "\n",
    "@njit\n",
    "def H(i,j,k,l):\n",
    "    return omega(i) ** 2 * X(k,i,j,l) + omega(k) ** 2 * X(i,j,k,l) \\\n",
    "            - Y(i,j,l,k) - Y(l,k,j,i) - (m * m).real * (V(i,j,k,l) + V(k,j,i,l))\n",
    "\n",
    "# Combinations of integrals\n",
    "@njit\n",
    "def Zpl(i,j,k,l):\n",
    "    return omega(i) * omega(j) * (X(k,l,i,j) - X(l,k,i,j)) \\\n",
    "            + (Y(i,j,l,k) - Y(i,j,k,l))\n",
    "@njit\n",
    "def Zmin(i,j,k,l):\n",
    "    return omega(i) * omega(j) * (X(k,l,i,j) - X(l,k,i,j)) \\\n",
    "            - (Y(i,j,l,k) - Y(i,j,k,l))\n",
    "\n",
    "H(0,0,0,0)\n",
    "print(\"M(%d,%d,%d) = %e\" % (3,2,1, M(3,2,1)))\n",
    "Zpl(0,0,0,0)\n",
    "Zmin(0,0,0,0)"
   ]
  },
  {
   "cell_type": "code",
   "execution_count": 56,
   "metadata": {},
   "outputs": [
    {
     "data": {
      "text/plain": [
       "(-2.6665852889417847+0j)"
      ]
     },
     "execution_count": 56,
     "metadata": {},
     "output_type": "execute_result"
    }
   ],
   "source": [
    "# Source term for +++ resonance channel\n",
    "\n",
    "@njit\n",
    "def Omega(i,j,k,l):\n",
    "    return (-1./12) * H(i,j,k,l) * omega(j) * (omega(i) + omega(k) +        \n",
    "        2 * omega(j)) / ((omega(i) + omega(j)) * (omega(j) + omega(k))) \\\n",
    "        - (1./12) * H(i,k,j,l) * omega(k) * (omega(i) + omega(j) + \n",
    "        2 * omega(k)) / ((omega(i) + omega(k)) * (omega(j) + omega(k))) \\\n",
    "        - (1./12) * H(j,i,k,l) * omega(i) * (omega(j) + omega(k) + \n",
    "        2 * omega(i)) / ((omega(i) + omega(j)) * (omega(i) + omega(k))) \\\n",
    "        - (1./12) * m ** 2 * V(i,j,k,l) * (1 + omega(j) / (omega(j) + omega(k))\n",
    "        + omega(i) / (omega(i) + omega(k))) \\\n",
    "        - (1./12) * m ** 2 * V(j,k,i,l) * (1 + omega(j) / (omega(i) + omega(j))\n",
    "        + omega(k) / (omega(i) + omega(k))) \\\n",
    "        - (1./12) * m ** 2 * V(k,i,j,l) * (1 + omega(i) / (omega(i) + omega(j))\n",
    "        + omega(k) / (omega(j) + omega(k))) \\\n",
    "        + (1./6) * X(j,k,i,l) * omega(i) * omega(k) * (1 + omega(i) / (omega(j)\n",
    "        + omega(k)) + omega(k) / (omega(i) + omega(j))) \\\n",
    "        + (1./6) * X(k,i,j,l) * omega(i) * omega(j) * (1 + omega(i) / (omega(j) \n",
    "        + omega(k)) + omega(j) / (omega(i) + omega(k))) \\\n",
    "        + (1./6) * X(i,j,k,l) * omega(j) * omega(k) * (1 + omega(j) / (omega(i) \n",
    "        + omega(k)) + omega(k) / (omega(i) + omega(j))) \\\n",
    "        - (1./12) * Zmin(i,j,k,l) * omega(k) / (omega(i) + omega(j)) \\\n",
    "        - (1./12) * Zmin(i,k,j,l) * omega(j) / (omega(i) + omega(k)) \\\n",
    "        - (1./12) * Zmin(j,k,i,l) * omega(i) / (omega(j) + omega(k))\n",
    "\n",
    "Omega(0,0,0,0)"
   ]
  },
  {
   "cell_type": "code",
   "execution_count": 13,
   "metadata": {},
   "outputs": [
    {
     "data": {
      "text/plain": [
       "7.299740562863054"
      ]
     },
     "execution_count": 13,
     "metadata": {},
     "output_type": "execute_result"
    }
   ],
   "source": [
    "# Source term for +-- resonance channel\n",
    "\n",
    "@njit\n",
    "def Gamma(i,j,k,l):\n",
    "    return (1./4) * H(i,j,k,l) * omega(j) * (omega(k) - omega(i) + \\\n",
    "            2 * omega(j)) / ((omega(i) - omega(j)) * (omega(j) + omega(k))) \\\n",
    "            + (1./4) * H(j,k,i,l) * omega(k) * (omega(j) - omega(i) + \\\n",
    "            2 * omega(k)) / ((omega(i) - omega(k)) * (omega(j) + omega(k))) \\\n",
    "            + (1./4) * H(k,i,j,l) * omega(i) * (omega(j) + omega(k) - \\\n",
    "            2 * omega(i)) / ((omega(i) - omega(j)) * (omega(i) - omega(k))) \\\n",
    "            - (1./2) * omega(j) * omega(k) * X(i,j,k,l) * (omega(k) / (omega(i) - omega(j)) + \\\n",
    "            omega(j) / (omega(i) - omega(k)) - 1) \\\n",
    "            + (1./2) * omega(i) * omega(k) * X(j,k,i,l) * (omega(k) / (omega(i) - omega(j)) + \\\n",
    "            omega(i) / (omega(j) + omega(k)) - 1) \\\n",
    "            + (1./2) * omega(i) * omega(j) * X(k,i,j,l) * (omega(j) / (omega(i) - omega(k)) + \\\n",
    "            omega(i) / (omega(j) + omega(k)) - 1) \\\n",
    "            + (1./4) * m ** 2 * V(j,k,i,l) * (omega(j) / (omega(i) - omega(j)) + \\\n",
    "            omega(k) / (omega(i) - omega(k)) - 1) \\\n",
    "            - (1./4) * m ** 2 * V(k,i,j,l) * (omega(i) / (omega(i) - omega(j)) + \\\n",
    "            omega(k) / (omega(j) + omega(k)) + 1) \\\n",
    "            - (1./4) * m ** 2 * V(i,j,k,l) * (omega(i) / (omega(i) - omega(k)) + \\\n",
    "            omega(j) / (omega(j) + omega(k)) + 1) \\\n",
    "            + (1./4) * Zmin(k,j,i,l) * omega(i) / (omega(j) + omega(k)) \\\n",
    "            - (1./4) * Zpl(i,j,k,l) * omega(k) / (omega(i) - omega(j)) \\\n",
    "            - (1./4) * Zpl(j,k,i,l) * omega(j) / (omega(i) - omega(k))\n",
    "\n",
    "Gamma(Dpl+3,1,1,1)"
   ]
  },
  {
   "cell_type": "code",
   "execution_count": 95,
   "metadata": {},
   "outputs": [
    {
     "name": "stdout",
     "output_type": "stream",
     "text": [
      "S_ppm(1,1,2,0) = 19.39837705328467\n",
      "R_ppm(1,0) = -6.628996917818842\n",
      "T_ppm(0) = -5.066463222354473\n"
     ]
    }
   ],
   "source": [
    "# Source term for S in non-vanishing channel\n",
    "\n",
    "@jit\n",
    "def S_ppm(i,j,k,l):\n",
    "    return -0.25 * H(k,i,j,l) * omega(i) * (omega(j) - omega(k) + 2. * omega(i)) / \\\n",
    "            ((omega(i) - omega(k)) * (omega(i) + omega(j))) - \\\n",
    "            0.25 * H(i,j,k,l) * omega(j) * (omega(i) - omega(k) + 2. * omega(j)) / \\\n",
    "            ((omega(j) - omega(k)) * (omega(i) + omega(j))) - \\\n",
    "            0.25 * H(j,k,i,l) * omega(k) * (omega(i) + omega(j) - 2. * omega(k)) / \\\n",
    "            ((omega(i) - omega(k)) * (omega(j) - omega(k))) - \\\n",
    "            0.5 * omega(j) * omega(k) * X(i,j,k,l) * \\\n",
    "            (omega(j) / (omega(i) - omega(k)) - omega(k) / (omega(i) + omega(j)) + 1) - \\\n",
    "            0.5 * omega(i) * omega(k) * X(j,k,i,l) * \\\n",
    "            (omega(i) / (omega(j) - omega(k)) - omega(k) / (omega(i) + omega(j)) + 1) + \\\n",
    "            0.5 * omega(i) * omega(j) * X(k,i,j,l) * \\\n",
    "            (omega(i) / (omega(j) - omega(k)) + omega(j) / (omega(i) - omega(k)) + 1) - \\\n",
    "            0.25 * (m * m).real * V(i,j,k,l) * (omega(i) / (omega(i) - omega(k)) + \\\n",
    "            omega(j) / (omega(j) - omega(k)) + 1) + \\\n",
    "            0.25 * (m * m).real * V(j,k,i,l) * (omega(k) / (omega(i) - omega(k)) - \\\n",
    "            omega(j) / (omega(i) + omega(j)) - 1) + \\\n",
    "            0.25 * (m * m).real * V(i,j,k,l) * (omega(k) / (omega(j) - omega(k)) - \\\n",
    "            omega(i) / (omega(i) + omega(j)) - 1) + \\\n",
    "            0.25 * Zmin(i,j,k,l) * omega(k) / (omega(i) + omega(j)) + \\\n",
    "            0.25 * Zpl(i,k,j,l) * omega(j) / (omega(i) - omega(k)) + \\\n",
    "            0.25 * Zpl(j,k,i,l) * omega(i) / (omega(j) - omega(k))\n",
    "\n",
    "# Functions containing the results from integrate.dblquad are not cooperating with @njit compilation\n",
    "# After iteration timings, no appreciable speedup without @njit call\n",
    "\n",
    "def R_ppm(i,l):\n",
    "    return omega(i) ** 2 * (Y(i,l,l,i) - Y(i,l,i,l) + omega(l) ** 2 * (X(i,l,i,l) - X(l,i,l,i))) / \\\n",
    "            (omega(l) ** 2 - omega(i) ** 2) + \\\n",
    "            omega(i) ** 2 * (H(l,i,i,l) + (m * m).real * V(i,i,l,l) - 2 * omega(i) ** 2 * X(l,i,i,l)) / \\\n",
    "            (omega(l) ** 2 - omega(i) ** 2) - \\\n",
    "            omega(l) ** 2 * (H(i,l,i,l) + (m * m).real * V(l,i,i,l) - 2 * omega(i) ** 2 * X(i,l,i,l)) / \\\n",
    "            (omega(l) ** 2 - omega(i) ** 2) - \\\n",
    "            0.25 * (m * m).real * (V(i,l,i,l) + V(i,i,l,l)) + \\\n",
    "            omega(i) ** 2 * omega(l) ** 2 * (P(i,i,l) - 2. * P(l,l,i)) - \\\n",
    "            omega(i) * omega(l) * X(i,l,i,l) - 1.5 * (m * m).real * V(l,i,i,l) - \\\n",
    "            0.5 * H(i,i,l,l) + omega(l) ** 2 * B(i,i,l) - omega(i) ** 2 * M(l,l,i) - \\\n",
    "            omega(i) ** 2 * (m * m).real * Q(l,l,i)\n",
    "\n",
    "def T_ppm(l):\n",
    "    return 0.5 * omega(l) ** 2 * (X(l,l,l,l) + 4. * B(l,l,l) - 2. * M(l,l,l) - \\\n",
    "            2. * (m * m).real * Q(l,l,l)) - 0.75 * (H(l,l,l,l) + 3. * (m * m).real * V(l,l,l,l))\n",
    "\n",
    "print(\"S_ppm(%d,%d,%d,%d) =\" % (1,1,2,0), S_ppm(1,1,2,0))\n",
    "print(\"R_ppm(%d,%d) =\" % (1,0), R_ppm(1,0))\n",
    "print(\"T_ppm(%d) =\" % (0), T_ppm(0))"
   ]
  },
  {
   "cell_type": "code",
   "execution_count": null,
   "metadata": {},
   "outputs": [],
   "source": [
    "def ppm_resonances(Lmax):\n",
    "    results = np.zeros((Lmax + 1,), dtype=np.double)\n",
    "    for l in range(Lmax + 1):\n",
    "        outval = T_ppm(l)\n",
    "        for i in range(Lmax + 1):\n",
    "            if i != l:\n",
    "                outval += R_ppm(i,l)\n",
    "            else:\n",
    "                pass\n",
    "            for j in prange(Lmax + 1):\n",
    "                if (i + j - l) >= 0:\n",
    "                    outval += S_ppm(i, j, i + j - l, l)\n",
    "                else:\n",
    "                    pass\n",
    "        results[l] = outval\n",
    "    return resutls"
   ]
  },
  {
   "cell_type": "code",
   "execution_count": 70,
   "metadata": {},
   "outputs": [],
   "source": [
    "# Run values of S, R, T for different choices of mass\n",
    "def norm_RT(Lmax):\n",
    "    tee = np.zeros((Lmax + 1,), dtype=np.double)\n",
    "    are = np.zeros_like(tee)\n",
    "    for l in range(Lmax + 1):\n",
    "        tee[l] = T_ppm(l)\n",
    "        for i in range(Lmax + 1):\n",
    "            if i == l:\n",
    "                pass\n",
    "            else:\n",
    "                are[l] += R_ppm(i,l)\n",
    "\n",
    "    print(\"Finished calculating R and T. Writing results to file.\")\n",
    "    \n",
    "    with open(\"./data/NormR.dat\", \"a\") as f:\n",
    "        f.write(\"%1.14e \" % (m * m).real)\n",
    "        for val in are:\n",
    "            f.write(\"%1.14e \" % val)\n",
    "        f.write(\"\\n\")\n",
    "        print(\"Finished writing to\", f.name)\n",
    "    with open(\"./data/NormT.dat\", \"a\") as f:\n",
    "        f.write(\"%1.14e \" % (m * m).real)\n",
    "        for val in tee:\n",
    "            f.write(\"%1.14e \" % val)\n",
    "        f.write(\"\\n\")\n",
    "        print(\"Finished writing to\", f.name)\n",
    "        "
   ]
  },
  {
   "cell_type": "code",
   "execution_count": 71,
   "metadata": {
    "scrolled": true
   },
   "outputs": [
    {
     "name": "stdout",
     "output_type": "stream",
     "text": [
      "Finished calculating R and T. Writing results to file.\n",
      "Finished writing to ./data/NormR.dat\n",
      "Finished writing to ./data/NormT.dat\n"
     ]
    }
   ],
   "source": [
    "norm_RT(10)"
   ]
  },
  {
   "cell_type": "code",
   "execution_count": 96,
   "metadata": {},
   "outputs": [
    {
     "name": "stdout",
     "output_type": "stream",
     "text": [
      "Progress: 100.0\n",
      "Progress: 9.090909090909092\n",
      "Progress: 18.181818181818183\n",
      "Progress: 27.27272727272727\n",
      "Progress: 36.36363636363637\n",
      "Progress: 45.45454545454545\n",
      "Progress: 54.54545454545454\n",
      "Progress: 63.63636363636363\n",
      "Progress: 72.72727272727273\n",
      "Progress: 81.81818181818183\n",
      "Progress: 90.9090909090909\n",
      "Progress: 100.0\n",
      "Finished calculating S. Writing results to file.\n",
      "Finished writing to ./data/NormS.dat\n"
     ]
    }
   ],
   "source": [
    "@njit\n",
    "def norm_S(Lmax):\n",
    "    ess = np.zeros((Lmax + 1,), dtype=np.double)\n",
    "    for l in range(Lmax + 1):\n",
    "        prog = (l + 1.) / (Lmax + 1) * 100\n",
    "        print(\"Progress:\", prog)\n",
    "        for i in range(Lmax + 1):\n",
    "            for j in range(Lmax + 1):\n",
    "                if i + j - l >= 0:\n",
    "                    if i == l or j == l:\n",
    "                        pass\n",
    "                    else:\n",
    "                        ess[l] += S_ppm(i, j, i + j - l, l)\n",
    "                else:\n",
    "                    pass\n",
    "    return ess\n",
    "norm_S(0)\n",
    "S_result = norm_S(10)\n",
    "print(\"Finished calculating S. Writing results to file.\")\n",
    "with open(\"./data/NormS.dat\", \"a\") as f:\n",
    "    f.write(\"%1.14e \" % (m * m).real)\n",
    "    for val in S_result:\n",
    "        f.write(\"%1.14e \" % val)\n",
    "    f.write(\"\\n\")\n",
    "    print(\"Finished writing to\", f.name)"
   ]
  },
  {
   "cell_type": "code",
   "execution_count": 43,
   "metadata": {},
   "outputs": [
    {
     "name": "stdout",
     "output_type": "stream",
     "text": [
      "dict_keys([0.0])\n"
     ]
    },
    {
     "data": {
      "image/png": "[encoded data removed]",
      "text/plain": [
       "<Figure size 864x576 with 1 Axes>"
      ]
     },
     "metadata": {
      "needs_background": "light"
     },
     "output_type": "display_data"
    }
   ],
   "source": [
    "import matplotlib.pyplot as plt\n",
    "\n",
    "# Import data for normalizable coefficients with different masses\n",
    "S, R, T = {}, {}, {}\n",
    "diclist = [R, T, S]\n",
    "flist = [\"./data/Norm\" + f + \".dat\" for f in [\"R\", \"T\", \"S\"]]\n",
    "for i in range(len(flist)):\n",
    "    temp = np.genfromtxt(flist[i], dtype=np.double)\n",
    "    diclist[i][temp[0]] = temp[1:]\n",
    "        \n",
    "# Plot each of the coeffecients for each of the masses\n",
    "plt.figure(figsize=(12,8))\n",
    "markerlist = [\"^\", \"x\", \".\"]\n",
    "linelist = [\"-\", \":\", \"-.\"]\n",
    "colourlist = [\"C\" + str(x) for x in range(10)]\n",
    "ii = 0\n",
    "for key in sorted(T.keys()):\n",
    "    xrange = np.arange(len(T.get(key)))\n",
    "    plt.plot(xrange, T.get(key)[:], marker=markerlist[0], markerfacecolor=colourlist[ii], \n",
    "             markeredgecolor=colourlist[ii], markersize=12, linestyle=linelist[0], \n",
    "             color=colourlist[ii])\n",
    "    plt.plot(xrange, T.get(key)[:], color=colourlist[ii], label = r'$m^2 =$' + str(key))\n",
    "    plt.plot(xrange, R.get(key)[:], marker=markerlist[1], markerfacecolor=colourlist[ii],\n",
    "            markeredgecolor=colourlist[ii], markersize=12, linestyle=linelist[1], color=colourlist[ii])\n",
    "    plt.plot(xrange, S.get(key)[:], marker=markerlist[2], markerfacecolor=colourlist[ii],\n",
    "            markeredgecolor=colourlist[ii], markersize=12, linestyle=linelist[2], color=colourlist[ii])\n",
    "    ii += 1\n",
    "    \n",
    "plt.xlabel(r'$\\ell$')\n",
    "plt.ylabel(r'$S_{ij(i+j-\\ell)\\ell}$, $R_{i\\ell}$, $T_\\ell$')\n",
    "plt.legend()\n",
    "plt.xlim(-0.5, 10)\n",
    "plt.hlines(0, -0.5, 10, colors='black', linestyle='dotted', alpha=0.5)\n",
    "\n",
    "plt.show()             \n",
    "    "
   ]
  },
  {
   "cell_type": "code",
   "execution_count": 14,
   "metadata": {},
   "outputs": [
    {
     "data": {
      "text/plain": [
       "array([0., 0., 0., 0.])"
      ]
     },
     "execution_count": 14,
     "metadata": {},
     "output_type": "execute_result"
    }
   ],
   "source": [
    "@njit(parallel=True)\n",
    "def ppp_resonances(Lmax):\n",
    "    results = np.zeros((Lmax,), dtype=np.double)\n",
    "    for l in prange(Lmax):\n",
    "        outval = 0.\n",
    "        for i in prange(Lmax):\n",
    "            for j in prange(Lmax):\n",
    "                if (l - i - j - Dpl >= 0):\n",
    "                    outval += Omega(i, j, l - i - j - Dpl, l)\n",
    "                else:\n",
    "                    pass\n",
    "        results[l] = outval\n",
    "    return results\n",
    "    \n",
    "ppp_resonances(4)"
   ]
  },
  {
   "cell_type": "code",
   "execution_count": 27,
   "metadata": {},
   "outputs": [
    {
     "name": "stdout",
     "output_type": "stream",
     "text": [
      "O(0,0,0,4) = -5.773160e-14\n",
      "O(0,0,1,5) = -2.566836e-13\n",
      "O(0,1,0,5) = -2.571277e-13\n",
      "O(1,0,0,5) = -2.557954e-13\n"
     ]
    }
   ],
   "source": [
    "# This loop is for checking values against those calculated by more general\n",
    "# basis functions in DrivenTTF_NNResonances\n",
    "\n",
    "for l in range(6):\n",
    "    for i in range(6):\n",
    "        for j in range(6):\n",
    "            if (l - i - j - Dpl >= 0):\n",
    "                print(\"O(%d,%d,%d,%d) = %e\" % (i,j,l-i-j-Dpl,l,Omega(i, j, l - i - j - Dpl, l)))\n",
    "            else:\n",
    "                pass"
   ]
  },
  {
   "cell_type": "code",
   "execution_count": 20,
   "metadata": {},
   "outputs": [
    {
     "name": "stdout",
     "output_type": "stream",
     "text": [
      "[0. 0. 0. 0. 0. 0. 0. 0.]\n"
     ]
    }
   ],
   "source": [
    "# ppp_resonances.parallel_diagnostics(level=3)\n",
    "resonance = ppp_resonances(8)\n",
    "print(resonance)"
   ]
  },
  {
   "cell_type": "code",
   "execution_count": 21,
   "metadata": {},
   "outputs": [],
   "source": [
    "# Test the required grid size for deviations by comparing values of X(1,2,3,4) directly and \n",
    "# the errors between the various integration methods\n",
    "TEST = False\n",
    "if (TEST):\n",
    "    print('-'*15)\n",
    "    print('-'*15)\n",
    "    for test_NPOW in range(16):\n",
    "        test_XGRID = np.linspace(0, np.pi/2, (2**test_NPOW) + 1, dtype=np.double)\n",
    "        test_DX = np.pi / (2 * ((2 ** test_NPOW) + 1))\n",
    "    \n",
    "        exact = integrate.quad(X_integrand, 0, np.pi/2, args=(1,2,3,4))[0]\n",
    "    \n",
    "        first_approx = integrate.romb([X_integrand(xval, 1, 2, 3, 4) for xval in test_XGRID], \n",
    "                                      dx=np.pi/(2*len(test_XGRID)))\n",
    "    \n",
    "        temp_approx = np.zeros((2**test_NPOW,), dtype=np.double)\n",
    "        for val in prange(2**test_NPOW):\n",
    "            temp_approx[val] = (0.5 * X_integrand(test_XGRID[val],1,2,3,4) +\\\n",
    "                                0.5 * X_integrand(test_XGRID[val+1],1,2,3,4)) * test_DX\n",
    "        second_approx = np.sum(temp_approx)\n",
    "    \n",
    "        print(\"NPOW =\", test_NPOW)\n",
    "        print(\"Number of grid points =\", (2**test_NPOW) + 1)\n",
    "        print(\"Value from integrate.quad:\", exact)\n",
    "        print(\"Value from romb method:\", first_approx)\n",
    "        print(\"Romberg error: %e\" % abs((exact - first_approx)/exact))\n",
    "        print(\"Value from Newton-Cotes method:\", second_approx)\n",
    "        print(\"Newton-Cotes error: %e\" % abs((exact - second_approx)/exact))\n",
    "        print('-'*15)\n",
    "\n",
    "    print('-'*15)\n",
    "    \n",
    "else:\n",
    "    pass"
   ]
  },
  {
   "cell_type": "code",
   "execution_count": 22,
   "metadata": {},
   "outputs": [
    {
     "data": {
      "text/plain": [
       "array([], dtype=float64)"
      ]
     },
     "execution_count": 22,
     "metadata": {},
     "output_type": "execute_result"
    }
   ],
   "source": [
    "@njit(parallel=True)\n",
    "def pmm_resonances(Lmax):\n",
    "    results = np.zeros((Lmax,), dtype=np.double)\n",
    "    for l in prange(Lmax):\n",
    "        outval = 0.\n",
    "        for j in prange(Lmax):\n",
    "            for k in prange(Lmax):\n",
    "                outval += Gamma(Dpl + j + k + l, j, k, l)\n",
    "        results[l] = outval\n",
    "    return results\n",
    "    \n",
    "pmm_resonances(0)"
   ]
  },
  {
   "cell_type": "code",
   "execution_count": 23,
   "metadata": {},
   "outputs": [
    {
     "name": "stdout",
     "output_type": "stream",
     "text": [
      "[0. 0. 0.]\n"
     ]
    }
   ],
   "source": [
    "resonance = pmm_resonances(3)\n",
    "print(resonance)"
   ]
  },
  {
   "cell_type": "code",
   "execution_count": null,
   "metadata": {},
   "outputs": [],
   "source": []
  }
 ],
 "metadata": {
  "kernelspec": {
   "display_name": "Python 3",
   "language": "python",
   "name": "python3"
  },
  "language_info": {
   "codemirror_mode": {
    "name": "ipython",
    "version": 3
   },
   "file_extension": ".py",
   "mimetype": "text/x-python",
   "name": "python",
   "nbconvert_exporter": "python",
   "pygments_lexer": "ipython3",
   "version": "3.6.9"
  }
 },
 "nbformat": 4,
 "nbformat_minor": 2
}
