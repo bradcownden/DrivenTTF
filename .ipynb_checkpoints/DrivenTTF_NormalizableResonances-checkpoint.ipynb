{
 "cells": [
  {
   "cell_type": "code",
   "execution_count": 1,
   "metadata": {},
   "outputs": [],
   "source": [
    "import numpy as np\n",
    "import functools as ft\n",
    "import math\n",
    "import pickle\n",
    "from numba import njit, prange, types\n",
    "from scipy.special import eval_jacobi\n",
    "from scipy import integrate"
   ]
  },
  {
   "cell_type": "code",
   "execution_count": 24,
   "metadata": {},
   "outputs": [],
   "source": [
    "d = 4\n",
    "m = 0\n",
    "Dpl = d/2 + 0.5 * np.sqrt(d * d + 4.0 * m * m)\n",
    "Dmin = d/2 - 0.5 * np.sqrt(d * d + 4.0 * m * m)\n",
    "NPOW = 15\n",
    "J_0 = 1.\n",
    "LMAX = 6\n",
    "DX = np.pi/(2*((2**NPOW) + 1))\n",
    "XGRID = np.linspace(0, np.pi/2, (2 ** NPOW) + 1, dtype=np.double) # romb method requires 2**k + 1 gridpoints"
   ]
  },
  {
   "cell_type": "code",
   "execution_count": 3,
   "metadata": {},
   "outputs": [
    {
     "data": {
      "text/plain": [
       "-1.2109375000000004"
      ]
     },
     "execution_count": 3,
     "metadata": {},
     "output_type": "execute_result"
    }
   ],
   "source": [
    "# See recursion relationships between Jacobi polynomials \n",
    "@njit(parallel=True)\n",
    "def my_jacobi(n, a, b, x):\n",
    "    if n < 0:\n",
    "        return 0.\n",
    "    elif n == 0:\n",
    "        return J_0\n",
    "    elif n == 1:\n",
    "        return (a + 1) + (a + b + 2) * (x - 1) / 2\n",
    "    else:\n",
    "        jac_factor = 2 * n + a + b - 1\n",
    "        outval = jac_factor * ((jac_factor + 1) * (jac_factor - 1) * x + (a * a)\\\n",
    "                               - (b * b)) * my_jacobi(n - 1, a, b, x)\n",
    "        outval -= 2 * (n + a - 1) * (n + b - 1) * (jac_factor + 1) * my_jacobi(n - 2, a, b, x)\n",
    "        return outval / (2 * n * (n + a + b) * (jac_factor - 1))\n",
    "                    \n",
    "my_jacobi(4, d/2 - 1, Dpl - d/2, np.cos(2 * np.pi/3))"
   ]
  },
  {
   "cell_type": "code",
   "execution_count": 4,
   "metadata": {},
   "outputs": [
    {
     "data": {
      "text/plain": [
       "4.0"
      ]
     },
     "execution_count": 4,
     "metadata": {},
     "output_type": "execute_result"
    }
   ],
   "source": [
    "@njit(parallel=True)\n",
    "def mu(x):\n",
    "    return (np.tan(x)) ** (d-1)\n",
    "\n",
    "# Evaluate the derivatives analytically\n",
    "@njit(parallel=True)\n",
    "def nu(x):\n",
    "    return (np.cos(x)) ** 2 * (np.tan(x)) ** (2 - d)\n",
    "\n",
    "@njit(parallel=True)\n",
    "def nup(x):\n",
    "    return (1 - d + np.cos(2.*x)) * (np.tan(x)) ** (1 - d) \n",
    "\n",
    "@njit(parallel=True)\n",
    "def omega(i):\n",
    "    return Dpl + 2 * i\n",
    "mu(0)\n",
    "nu(np.pi)\n",
    "nup(np.pi/4)\n",
    "omega(0)"
   ]
  },
  {
   "cell_type": "code",
   "execution_count": 5,
   "metadata": {},
   "outputs": [
    {
     "data": {
      "text/plain": [
       "4.898979485566356"
      ]
     },
     "execution_count": 5,
     "metadata": {},
     "output_type": "execute_result"
    }
   ],
   "source": [
    "@njit(parallel=True)\n",
    "def K(i):\n",
    "    return 2. * np.sqrt((i + Dpl / 2) * math.gamma(i + 1) * math.gamma(Dpl + i) / (math.gamma(i + d/2) * math.gamma(\n",
    "        i + Dpl + 1 - d/2)))\n",
    "\n",
    "K(1)"
   ]
  },
  {
   "cell_type": "code",
   "execution_count": 6,
   "metadata": {},
   "outputs": [
    {
     "data": {
      "text/plain": [
       "0.9057110466368404"
      ]
     },
     "execution_count": 6,
     "metadata": {},
     "output_type": "execute_result"
    }
   ],
   "source": [
    "@njit(parallel=True)\n",
    "def e(x, j):\n",
    "    return K(j) * (np.cos(x)) ** Dpl * my_jacobi(j, d/2 - 1, Dpl - d/2, np.cos(2 * x))\n",
    "\n",
    "e(np.pi/4, 4)"
   ]
  },
  {
   "cell_type": "code",
   "execution_count": 7,
   "metadata": {},
   "outputs": [
    {
     "data": {
      "text/plain": [
       "4.412074358675782"
      ]
     },
     "execution_count": 7,
     "metadata": {},
     "output_type": "execute_result"
    }
   ],
   "source": [
    "@njit(parallel=True)\n",
    "def ep(x, j):\n",
    "    return -1. * K(j) * np.tan(x) * (np.cos(x)) ** Dpl * (2 * (Dpl + j) * np.cos(x) ** 2 * my_jacobi(j - 1, \n",
    "            d/2, Dpl + 1 - d/2, np.cos(2 * x)) + Dpl * my_jacobi(j, d/2 - 1, Dpl - d/2, np.cos(2 * x)))\n",
    "\n",
    "ep(np.pi/3, 4)"
   ]
  },
  {
   "cell_type": "code",
   "execution_count": 8,
   "metadata": {},
   "outputs": [
    {
     "data": {
      "text/plain": [
       "17.999999999999996"
      ]
     },
     "execution_count": 8,
     "metadata": {},
     "output_type": "execute_result"
    }
   ],
   "source": [
    "# Remove the need to include nu(x) in the integrals by using \n",
    "# the identity mu(x)nu(x) = sin(x)cos(x)\n",
    "@njit(parallel=True)\n",
    "def V_integrand(x, i, j, k, l):\n",
    "    return mu(x) * np.sin(x) * np.cos(x) * e(x, i) * e(x, j) * ep(x, k) * e(x, l) * (1 / np.cos(x)) ** 2\n",
    "\n",
    "@njit(parallel=True)\n",
    "def X_integrand(x, i, j, k, l):\n",
    "    return mu(x) * np.sin(x) * np.cos(x) * ep(x, i) * e(x, j) * e(x, k) * e(x, l)\n",
    "\n",
    "@njit(parallel=True)\n",
    "def Y_integrand(x, i, j, k, l):\n",
    "    return mu(x) * np.sin(x) * np.cos(x) * ep(x, i) * ep(x, j) * e(x, k) * ep(x, l)\n",
    "\n",
    "@njit(parallel=True)\n",
    "def B_integrand(x, y, i, j, l):\n",
    "    return np.sin(x) * np.cos(x) * ep(x, i) * ep(x, j) * mu(y) * e(y, l) * e(y, l)\n",
    "    \n",
    "\n",
    "X_integrand(np.pi/4,0,0,0,0)\n",
    "Y_integrand(np.pi/4,0,0,0,0)\n",
    "V_integrand(np.pi/3,1,2,3,4)\n",
    "B_integrand(np.pi/4,np.pi/4,0,0,0)"
   ]
  },
  {
   "cell_type": "code",
   "execution_count": 9,
   "metadata": {},
   "outputs": [
    {
     "name": "stdout",
     "output_type": "stream",
     "text": [
      "1.54 µs ± 144 ns per loop (mean ± std. dev. of 7 runs, 1000000 loops each)\n"
     ]
    }
   ],
   "source": [
    "# Time iterations of the function\n",
    "%timeit V_integrand(np.pi/4,1,2,3,4)"
   ]
  },
  {
   "cell_type": "code",
   "execution_count": 9,
   "metadata": {},
   "outputs": [
    {
     "data": {
      "text/plain": [
       "-19.780416265175766"
      ]
     },
     "execution_count": 9,
     "metadata": {},
     "output_type": "execute_result"
    }
   ],
   "source": [
    "# Note: these functions cannot be executed using Numba because of calls to scipy.integrate\n",
    "# After testing cumulative trapezoid and simpsons methods, romb does the job just as well\n",
    "def X_integral(i,j,k,l):\n",
    "    return integrate.romb([X_integrand(xval, i, j, k, l) for xval in XGRID], dx=np.pi/(2*len(XGRID)))\n",
    "\n",
    "def Y_integral(i,j,k,l):\n",
    "    return integrate.romb([Y_integrand(xval, i, j, k , l) for xval in XGRID], dx=np.pi/(2*len(XGRID)))\n",
    "\n",
    "def V_integral(i,j,k,l):\n",
    "    return integrate.romb([V_integrand(xval, i, j, k , l) for xval in XGRID], dx=np.pi/(2*len(XGRID)))\n",
    "\n",
    "X_integral(0,0,0,0)\n",
    "Y_integral(0,0,0,0)\n",
    "V_integral(1,2,3,4)"
   ]
  },
  {
   "cell_type": "code",
   "execution_count": 10,
   "metadata": {},
   "outputs": [
    {
     "data": {
      "text/plain": [
       "-19.78101991557446"
      ]
     },
     "execution_count": 10,
     "metadata": {},
     "output_type": "execute_result"
    }
   ],
   "source": [
    "integrate.quad(V_integrand, 0, np.pi/2, args=(1,2,3,4))[0]"
   ]
  },
  {
   "cell_type": "code",
   "execution_count": 9,
   "metadata": {},
   "outputs": [
    {
     "name": "stdout",
     "output_type": "stream",
     "text": [
      "B(1,1,2) = 1.565155e+01\n",
      "P(1,2,3) = 5.505476e-01\n",
      "Q(1,2,1) = 2.798979e-01\n",
      "M(3,2,1) = 3.102981e+01\n"
     ]
    }
   ],
   "source": [
    "# Write an integral approximator that uses parallelism and a simple mid-point method. \n",
    "# Should be used with numba and parallel=True to maximize performance\n",
    "\n",
    "@njit(parallel=True)\n",
    "def X(i,j,k,l):\n",
    "    # Approximate the integral by adding together area elements over the integration domain.\n",
    "    # Use an average of the function f_av = (f(x) + f(x + dx)) / 2 and multiply by the width of the interval.\n",
    "    result = np.zeros((2**NPOW,), dtype=np.double)\n",
    "    for val in prange(2**NPOW):\n",
    "        result[val] = (X_integrand(XGRID[val],i,j,k,l) + X_integrand(XGRID[val+1],i,j,k,l)) / 2 * DX\n",
    "    return np.sum(result)\n",
    "\n",
    "@njit(parallel=True)\n",
    "def Y(i,j,k,l):\n",
    "    # Approximate the integral by adding together area elements over the integration domain.\n",
    "    # Use an average of the function f_av = (f(x) + f(x + dx)) / 2 and multiply by the width of the interval.\n",
    "    result = np.zeros((2**NPOW,), dtype=np.double)\n",
    "    for val in prange(2**NPOW):\n",
    "        result[val] = (Y_integrand(XGRID[val],i,j,k,l) + Y_integrand(XGRID[val+1],i,j,k,l)) / 2 * DX\n",
    "    return np.sum(result)\n",
    "\n",
    "@njit(parallel=True)\n",
    "def V(i,j,k,l):\n",
    "    # Approximate the integral by adding together area elements over the integration domain.\n",
    "    # Use an average of the function f_av = (f(x) + f(x + dx)) / 2 and multiply by the width of the interval.\n",
    "    result = np.zeros((2**NPOW,), dtype=np.double)\n",
    "    for val in prange(2**NPOW):\n",
    "        result[val] = (V_integrand(XGRID[val],i,j,k,l) + V_integrand(XGRID[val+1],i,j,k,l)) / 2 * DX\n",
    "    return np.sum(result)\n",
    "\n",
    "# Forgoing @njit for ease of use of double quad integration\n",
    "def B(i,j,l):\n",
    "    # Note that y MUST preceed x\n",
    "    def integrand(y, x, i, j, l):\n",
    "        return np.sin(x) * np.cos(x) * ep(x, i) * ep(x, j) * mu(y) * e(y, l) * e(y, l)\n",
    "    # Use built-in double integrator with dynamic bounds\n",
    "    return integrate.dblquad(integrand, 0, np.pi/2, lambda y: 0, lambda y: y, args=(i, j, l))[0]\n",
    "\n",
    "def P(i,j,l):\n",
    "    # Note that y MUST preceed x\n",
    "    def integrand(y, x, i, j, l):\n",
    "        return np.sin(x) * np.cos(x) * e(x, i) * e(x, j) * mu(y) * e(y, l) * e(y, l)\n",
    "    # Use built-in double integrator with dynamic bounds\n",
    "    return integrate.dblquad(integrand, 0, np.pi/2, lambda y: 0, lambda y: y, args=(i, j, l))[0]\n",
    "\n",
    "def Q(i,j,l):\n",
    "    # Note that y MUST preceed x\n",
    "    def integrand(y, x, i, j, l):\n",
    "        return np.sin(x) * np.cos(x) * e(x, i) * e(x, j) * (1/ np.cos(x)) ** 2 * mu(y) * e(y, l) * e(y, l)\n",
    "    # Use built-in double integrator with dynamic bounds\n",
    "    return integrate.dblquad(integrand, 0, np.pi/2, lambda y: 0, lambda y: y, args=(i, j, l))[0]\n",
    "\n",
    "def M(i,j,l):\n",
    "    # Note that y MUST preceed x\n",
    "    def integrand(y, x, i, j, l):\n",
    "        return mu(x) * nup(x) * ep(x, i) * e(x, j) * mu(y) * e(y, l) * e(y,l)\n",
    "    # Use built-in double integrator with dynamic bounds\n",
    "    return integrate.dblquad(integrand, 0, np.pi/2, lambda y: 0, lambda y: y, args=(i, j, l))[0]\n",
    "\n",
    "\n",
    "X(0,0,0,0)\n",
    "Y(0,0,0,0)\n",
    "V(1,2,3,4)\n",
    "print(\"B(%d,%d,%d) = %e\" % (1,1,2, B(1,1,2)))\n",
    "print(\"P(%d,%d,%d) = %e\" % (1,2,3, P(1,2,3)))\n",
    "print(\"Q(%d,%d,%d) = %e\" % (1,2,1, Q(1,2,1)))\n",
    "print(\"M(%d,%d,%d) = %e\" % (3,2,1, M(3,2,1)))"
   ]
  },
  {
   "cell_type": "code",
   "execution_count": 13,
   "metadata": {},
   "outputs": [],
   "source": [
    "# print(\"Timing of approximation function:\")\n",
    "# %timeit X(1,2,3,4)\n",
    "# print(\"Timing of romberg integration:\")\n",
    "# %timeit X_integral(1,2,3,4)"
   ]
  },
  {
   "cell_type": "code",
   "execution_count": 10,
   "metadata": {},
   "outputs": [
    {
     "name": "stdout",
     "output_type": "stream",
     "text": [
      "M(3,2,1) = 3.102981e+01\n"
     ]
    },
    {
     "data": {
      "text/plain": [
       "0.0"
      ]
     },
     "execution_count": 10,
     "metadata": {},
     "output_type": "execute_result"
    }
   ],
   "source": [
    "# Use integration by parts to write H_ijkl in terms of other,\n",
    "# more well-behaved, integrals\n",
    "\n",
    "@njit(parallel=True)\n",
    "def H(i,j,k,l):\n",
    "    return omega(i) ** 2 * X(k,i,j,l) + omega(k) ** 2 * X(i,j,k,l) \\\n",
    "            - Y(i,j,l,k) - Y(l,k,j,i) - m ** 2 * (V(i,j,k,l) + V(k,j,i,l))\n",
    "\n",
    "# Combinations of integrals\n",
    "@njit(parallel=True)\n",
    "def Zpl(i,j,k,l):\n",
    "    return omega(i) * omega(j) * (X(k,l,i,j) - X(l,k,i,j)) \\\n",
    "            + (Y(i,j,l,k) - Y(i,j,k,l))\n",
    "@njit(parallel=True)\n",
    "def Zmin(i,j,k,l):\n",
    "    return omega(i) * omega(j) * (X(k,l,i,j) - X(l,k,i,j)) \\\n",
    "            - (Y(i,j,l,k) - Y(i,j,k,l))\n",
    "\n",
    "H(0,0,0,0)\n",
    "print(\"M(%d,%d,%d) = %e\" % (3,2,1, M(3,2,1)))\n",
    "Zpl(0,0,0,0)\n",
    "Zmin(0,0,0,0)"
   ]
  },
  {
   "cell_type": "code",
   "execution_count": 20,
   "metadata": {},
   "outputs": [
    {
     "data": {
      "text/plain": [
       "-54.855468801088264"
      ]
     },
     "execution_count": 20,
     "metadata": {},
     "output_type": "execute_result"
    }
   ],
   "source": [
    "# Source term for +++ resonance channel\n",
    "\n",
    "@njit(parallel=True)\n",
    "def Omega(i,j,k,l):\n",
    "    return (-1./12) * H(i,j,k,l) * omega(j) * (omega(i) + omega(k) +        \n",
    "        2 * omega(j)) / ((omega(i) + omega(j)) * (omega(j) + omega(k))) \\\n",
    "        - (1./12) * H(i,k,j,l) * omega(k) * (omega(i) + omega(j) + \n",
    "        2 * omega(k)) / ((omega(i) + omega(k)) * (omega(j) + omega(k))) \\\n",
    "        - (1./12) * H(j,i,k,l) * omega(i) * (omega(j) + omega(k) + \n",
    "        2 * omega(i)) / ((omega(i) + omega(j)) * (omega(i) + omega(k))) \\\n",
    "        - (1./12) * m ** 2 * V(i,j,k,l) * (1 + omega(j) / (omega(j) + omega(k))\n",
    "        + omega(i) / (omega(i) + omega(k))) \\\n",
    "        - (1./12) * m ** 2 * V(j,k,i,l) * (1 + omega(j) / (omega(i) + omega(j))\n",
    "        + omega(k) / (omega(i) + omega(k))) \\\n",
    "        - (1./12) * m ** 2 * V(k,i,j,l) * (1 + omega(i) / (omega(i) + omega(j))\n",
    "        + omega(k) / (omega(j) + omega(k))) \\\n",
    "        + (1./6) * X(j,k,i,l) * omega(i) * omega(k) * (1 + omega(i) / (omega(j)\n",
    "        + omega(k)) + omega(k) / (omega(i) + omega(j))) \\\n",
    "        + (1./6) * X(k,i,j,l) * omega(i) * omega(j) * (1 + omega(i) / (omega(j) \n",
    "        + omega(k)) + omega(j) / (omega(i) + omega(k))) \\\n",
    "        + (1./6) * X(i,j,k,l) * omega(j) * omega(k) * (1 + omega(j) / (omega(i) \n",
    "        + omega(k)) + omega(k) / (omega(i) + omega(j))) \\\n",
    "        - (1./12) * Zmin(i,j,k,l) * omega(k) / (omega(i) + omega(j)) \\\n",
    "        - (1./12) * Zmin(i,k,j,l) * omega(j) / (omega(i) + omega(k)) \\\n",
    "        - (1./12) * Zmin(j,k,i,l) * omega(i) / (omega(j) + omega(k))\n",
    "\n",
    "Omega(0,0,0,0)"
   ]
  },
  {
   "cell_type": "code",
   "execution_count": 13,
   "metadata": {},
   "outputs": [
    {
     "data": {
      "text/plain": [
       "7.299740562863054"
      ]
     },
     "execution_count": 13,
     "metadata": {},
     "output_type": "execute_result"
    }
   ],
   "source": [
    "# Source term for +-- resonance channel\n",
    "\n",
    "@njit(parallel=True)\n",
    "def Gamma(i,j,k,l):\n",
    "    return (1./4) * H(i,j,k,l) * omega(j) * (omega(k) - omega(i) + \\\n",
    "            2 * omega(j)) / ((omega(i) - omega(j)) * (omega(j) + omega(k))) \\\n",
    "            + (1./4) * H(j,k,i,l) * omega(k) * (omega(j) - omega(i) + \\\n",
    "            2 * omega(k)) / ((omega(i) - omega(k)) * (omega(j) + omega(k))) \\\n",
    "            + (1./4) * H(k,i,j,l) * omega(i) * (omega(j) + omega(k) - \\\n",
    "            2 * omega(i)) / ((omega(i) - omega(j)) * (omega(i) - omega(k))) \\\n",
    "            - (1./2) * omega(j) * omega(k) * X(i,j,k,l) * (omega(k) / (omega(i) - omega(j)) + \\\n",
    "            omega(j) / (omega(i) - omega(k)) - 1) \\\n",
    "            + (1./2) * omega(i) * omega(k) * X(j,k,i,l) * (omega(k) / (omega(i) - omega(j)) + \\\n",
    "            omega(i) / (omega(j) + omega(k)) - 1) \\\n",
    "            + (1./2) * omega(i) * omega(j) * X(k,i,j,l) * (omega(j) / (omega(i) - omega(k)) + \\\n",
    "            omega(i) / (omega(j) + omega(k)) - 1) \\\n",
    "            + (1./4) * m ** 2 * V(j,k,i,l) * (omega(j) / (omega(i) - omega(j)) + \\\n",
    "            omega(k) / (omega(i) - omega(k)) - 1) \\\n",
    "            - (1./4) * m ** 2 * V(k,i,j,l) * (omega(i) / (omega(i) - omega(j)) + \\\n",
    "            omega(k) / (omega(j) + omega(k)) + 1) \\\n",
    "            - (1./4) * m ** 2 * V(i,j,k,l) * (omega(i) / (omega(i) - omega(k)) + \\\n",
    "            omega(j) / (omega(j) + omega(k)) + 1) \\\n",
    "            + (1./4) * Zmin(k,j,i,l) * omega(i) / (omega(j) + omega(k)) \\\n",
    "            - (1./4) * Zpl(i,j,k,l) * omega(k) / (omega(i) - omega(j)) \\\n",
    "            - (1./4) * Zpl(j,k,i,l) * omega(j) / (omega(i) - omega(k))\n",
    "\n",
    "Gamma(Dpl+3,1,1,1)"
   ]
  },
  {
   "cell_type": "code",
   "execution_count": 14,
   "metadata": {},
   "outputs": [
    {
     "data": {
      "text/plain": [
       "array([0., 0., 0., 0.])"
      ]
     },
     "execution_count": 14,
     "metadata": {},
     "output_type": "execute_result"
    }
   ],
   "source": [
    "@njit(parallel=True)\n",
    "def ppp_resonances(Lmax):\n",
    "    results = np.zeros((Lmax,), dtype=np.double)\n",
    "    for l in prange(Lmax):\n",
    "        outval = 0.\n",
    "        for i in prange(Lmax):\n",
    "            for j in prange(Lmax):\n",
    "                if (l - i - j - Dpl >= 0):\n",
    "                    outval += Omega(i, j, l - i - j - Dpl, l)\n",
    "                else:\n",
    "                    pass\n",
    "        results[l] = outval\n",
    "    return results\n",
    "    \n",
    "ppp_resonances(4)"
   ]
  },
  {
   "cell_type": "code",
   "execution_count": 27,
   "metadata": {},
   "outputs": [
    {
     "name": "stdout",
     "output_type": "stream",
     "text": [
      "O(0,0,0,4) = -5.773160e-14\n",
      "O(0,0,1,5) = -2.566836e-13\n",
      "O(0,1,0,5) = -2.571277e-13\n",
      "O(1,0,0,5) = -2.557954e-13\n"
     ]
    }
   ],
   "source": [
    "# This loop is for checking values against those calculated by more general\n",
    "# basis functions in DrivenTTF_NNResonances\n",
    "\n",
    "for l in range(6):\n",
    "    for i in range(6):\n",
    "        for j in range(6):\n",
    "            if (l - i - j - Dpl >= 0):\n",
    "                print(\"O(%d,%d,%d,%d) = %e\" % (i,j,l-i-j-Dpl,l,Omega(i, j, l - i - j - Dpl, l)))\n",
    "            else:\n",
    "                pass"
   ]
  },
  {
   "cell_type": "code",
   "execution_count": 20,
   "metadata": {},
   "outputs": [
    {
     "name": "stdout",
     "output_type": "stream",
     "text": [
      "[0. 0. 0. 0. 0. 0. 0. 0.]\n"
     ]
    }
   ],
   "source": [
    "# ppp_resonances.parallel_diagnostics(level=3)\n",
    "resonance = ppp_resonances(8)\n",
    "print(resonance)"
   ]
  },
  {
   "cell_type": "code",
   "execution_count": 21,
   "metadata": {},
   "outputs": [],
   "source": [
    "# Test the required grid size for deviations by comparing values of X(1,2,3,4) directly and \n",
    "# the errors between the various integration methods\n",
    "TEST = False\n",
    "if (TEST):\n",
    "    print('-'*15)\n",
    "    print('-'*15)\n",
    "    for test_NPOW in range(16):\n",
    "        test_XGRID = np.linspace(0, np.pi/2, (2**test_NPOW) + 1, dtype=np.double)\n",
    "        test_DX = np.pi / (2 * ((2 ** test_NPOW) + 1))\n",
    "    \n",
    "        exact = integrate.quad(X_integrand, 0, np.pi/2, args=(1,2,3,4))[0]\n",
    "    \n",
    "        first_approx = integrate.romb([X_integrand(xval, 1, 2, 3, 4) for xval in test_XGRID], \n",
    "                                      dx=np.pi/(2*len(test_XGRID)))\n",
    "    \n",
    "        temp_approx = np.zeros((2**test_NPOW,), dtype=np.double)\n",
    "        for val in prange(2**test_NPOW):\n",
    "            temp_approx[val] = (0.5 * X_integrand(test_XGRID[val],1,2,3,4) +\\\n",
    "                                0.5 * X_integrand(test_XGRID[val+1],1,2,3,4)) * test_DX\n",
    "        second_approx = np.sum(temp_approx)\n",
    "    \n",
    "        print(\"NPOW =\", test_NPOW)\n",
    "        print(\"Number of grid points =\", (2**test_NPOW) + 1)\n",
    "        print(\"Value from integrate.quad:\", exact)\n",
    "        print(\"Value from romb method:\", first_approx)\n",
    "        print(\"Romberg error: %e\" % abs((exact - first_approx)/exact))\n",
    "        print(\"Value from Newton-Cotes method:\", second_approx)\n",
    "        print(\"Newton-Cotes error: %e\" % abs((exact - second_approx)/exact))\n",
    "        print('-'*15)\n",
    "\n",
    "    print('-'*15)\n",
    "    \n",
    "else:\n",
    "    pass"
   ]
  },
  {
   "cell_type": "code",
   "execution_count": 22,
   "metadata": {},
   "outputs": [
    {
     "data": {
      "text/plain": [
       "array([], dtype=float64)"
      ]
     },
     "execution_count": 22,
     "metadata": {},
     "output_type": "execute_result"
    }
   ],
   "source": [
    "@njit(parallel=True)\n",
    "def pmm_resonances(Lmax):\n",
    "    results = np.zeros((Lmax,), dtype=np.double)\n",
    "    for l in prange(Lmax):\n",
    "        outval = 0.\n",
    "        for j in prange(Lmax):\n",
    "            for k in prange(Lmax):\n",
    "                outval += Gamma(Dpl + j + k + l, j, k, l)\n",
    "        results[l] = outval\n",
    "    return results\n",
    "    \n",
    "pmm_resonances(0)"
   ]
  },
  {
   "cell_type": "code",
   "execution_count": 21,
   "metadata": {},
   "outputs": [],
   "source": [
    "# pmm_resonances.parallel_diagnostics(level=3)"
   ]
  },
  {
   "cell_type": "code",
   "execution_count": 23,
   "metadata": {},
   "outputs": [
    {
     "name": "stdout",
     "output_type": "stream",
     "text": [
      "[0. 0. 0.]\n"
     ]
    }
   ],
   "source": [
    "resonance = pmm_resonances(3)\n",
    "print(resonance)"
   ]
  },
  {
   "cell_type": "code",
   "execution_count": null,
   "metadata": {},
   "outputs": [],
   "source": []
  }
 ],
 "metadata": {
  "kernelspec": {
   "display_name": "Python 3",
   "language": "python",
   "name": "python3"
  },
  "language_info": {
   "codemirror_mode": {
    "name": "ipython",
    "version": 3
   },
   "file_extension": ".py",
   "mimetype": "text/x-python",
   "name": "python",
   "nbconvert_exporter": "python",
   "pygments_lexer": "ipython3",
   "version": "3.6.8"
  }
 },
 "nbformat": 4,
 "nbformat_minor": 2
}
